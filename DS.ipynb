{
 "cells": [
  {
   "cell_type": "code",
   "execution_count": 1,
   "id": "7213e546-2470-4bfc-a079-5ce3ac9df039",
   "metadata": {},
   "outputs": [
    {
     "data": {
      "text/plain": [
       "'!olleH'"
      ]
     },
     "execution_count": 1,
     "metadata": {},
     "output_type": "execute_result"
    }
   ],
   "source": [
    "# Q1. reverse a string\n",
    "\n",
    "s = \"Hello!\"\n",
    "s[: :-1]"
   ]
  },
  {
   "cell_type": "code",
   "execution_count": 2,
   "id": "28511001-4506-46a9-8cc9-9d2e0389e61b",
   "metadata": {},
   "outputs": [
    {
     "data": {
      "text/plain": [
       "9"
      ]
     },
     "execution_count": 2,
     "metadata": {},
     "output_type": "execute_result"
    }
   ],
   "source": [
    "# Q2. number of vowels\n",
    "\n",
    "s1 = \"adfuyegedgetincdbvuvbrohsggu\"\n",
    "c = 0\n",
    "for i in s1:\n",
    "    if i == \"a\" or i == \"e\" or i == \"i\" or i == \"o\" or i == \"u\":\n",
    "       c = c+1\n",
    "c"
   ]
  },
  {
   "cell_type": "code",
   "execution_count": 4,
   "id": "81827120-e38d-448a-9679-669390f1e6b5",
   "metadata": {},
   "outputs": [
    {
     "name": "stdin",
     "output_type": "stream",
     "text": [
      "Enter any String abcba\n"
     ]
    },
    {
     "name": "stdout",
     "output_type": "stream",
     "text": [
      "The given string is palindrome\n"
     ]
    }
   ],
   "source": [
    "# Q3. check if a given string is a palindrome or not\n",
    "\n",
    "s1 = input(\"Enter any String\")\n",
    "s2 = s1[: :-1]\n",
    "if s1 == s2:\n",
    "    print(\"The given string is palindrome\")\n",
    "else:\n",
    "    print(\"The given string is not a palindrome\")"
   ]
  },
  {
   "cell_type": "code",
   "execution_count": 5,
   "id": "8853f37e-455b-443d-8aef-269708179545",
   "metadata": {},
   "outputs": [
    {
     "name": "stdout",
     "output_type": "stream",
     "text": [
      "the strings are the anagrams of each other\n"
     ]
    }
   ],
   "source": [
    "#  Q4. Anagrams \n",
    "\n",
    "s1 = \"listen\"\n",
    "s2 = \"silent\"\n",
    "\n",
    "if len(s1)!=len(s2):\n",
    "    print(\"Not an anagram\")\n",
    "elif len(s1) == len(s2):\n",
    "    if sorted(s1) == sorted(s2):\n",
    "        print(\"the strings are the anagrams of each other\")\n",
    "    else:\n",
    "        print(\"Not an anagram\")"
   ]
  },
  {
   "cell_type": "code",
   "execution_count": 6,
   "id": "e5606798-ddae-4d16-88a2-68054ea7c469",
   "metadata": {},
   "outputs": [
    {
     "data": {
      "text/plain": [
       "3"
      ]
     },
     "execution_count": 6,
     "metadata": {},
     "output_type": "execute_result"
    }
   ],
   "source": [
    "#  Q5. \n",
    "\n",
    "s1 = \"abcdefghidefjkldef\"\n",
    "sub = \"def\"\n",
    "c = 0\n",
    "for i in range(len(s1)-len(sub)+1):\n",
    "    if s1[i:i+len(sub)] == sub:\n",
    "        c = c+1\n",
    "c"
   ]
  },
  {
   "cell_type": "code",
   "execution_count": 7,
   "id": "1db9a658-9e05-4f23-b5c4-88d75df520ef",
   "metadata": {},
   "outputs": [
    {
     "name": "stdout",
     "output_type": "stream",
     "text": [
      "a4b2c3d4\n"
     ]
    }
   ],
   "source": [
    "# Q6. Basic string compression\n",
    "\n",
    "x = \"aaaabbcccdddd\"\n",
    "count = 1\n",
    "result = \"\"\n",
    "for i in range(1,len(x)):\n",
    "    if x[i] == x[i-1]:\n",
    "        count = count + 1\n",
    "    else:\n",
    "        result += x[i-1]+str(count)\n",
    "        count = 1\n",
    "result += x[-1] + str(count)\n",
    "print(result)   "
   ]
  },
  {
   "cell_type": "code",
   "execution_count": 8,
   "id": "ab8c4e37-b167-4abc-9c2e-2eadd3dc8c63",
   "metadata": {},
   "outputs": [
    {
     "name": "stdout",
     "output_type": "stream",
     "text": [
      "True\n",
      "False\n"
     ]
    }
   ],
   "source": [
    "# Q7. string with all the unique characters\n",
    "\n",
    "def unique_characters(s):\n",
    "    unique_chars = set(s)\n",
    "    return len(unique_chars) == len(s)\n",
    "\n",
    "\n",
    "s = \"abcdef\"\n",
    "print(unique_characters(s))\n",
    "\n",
    "s = \"aabbcc\"\n",
    "print(unique_characters(s))"
   ]
  },
  {
   "cell_type": "code",
   "execution_count": 9,
   "id": "56d6ab28-5233-4ad0-9cb4-60dfc3c19f39",
   "metadata": {},
   "outputs": [
    {
     "name": "stdout",
     "output_type": "stream",
     "text": [
      "ABCD\n",
      "abcd\n"
     ]
    }
   ],
   "source": [
    "# Q8.\n",
    "\n",
    "s = \"abcd\"\n",
    "print(s.upper())\n",
    "\n",
    "print(s.lower())"
   ]
  },
  {
   "cell_type": "code",
   "execution_count": 10,
   "id": "9a8daef5-c1f6-4060-94de-ac3dcc127385",
   "metadata": {},
   "outputs": [
    {
     "data": {
      "text/plain": [
       "4"
      ]
     },
     "execution_count": 10,
     "metadata": {},
     "output_type": "execute_result"
    }
   ],
   "source": [
    "# Q9. To count the number of words in a string\n",
    "\n",
    "s = \"This is a pen\"\n",
    "c = 1\n",
    "for i in range(1,len(s)-1):\n",
    "    if s[i+1] == \" \":\n",
    "        c+=1\n",
    "c"
   ]
  },
  {
   "cell_type": "code",
   "execution_count": 11,
   "id": "da551249-5e8c-4225-9f39-db65025f743c",
   "metadata": {},
   "outputs": [
    {
     "name": "stdout",
     "output_type": "stream",
     "text": [
      "Hello World\n"
     ]
    }
   ],
   "source": [
    "# Q10. \n",
    "\n",
    "s1 = \"Hello \"\n",
    "s2 = \"World\"\n",
    "result = \"\".join((s1, s2))\n",
    "print(result)"
   ]
  },
  {
   "cell_type": "code",
   "execution_count": 12,
   "id": "1f67c8dc-c94e-4454-bddc-7e401073eed2",
   "metadata": {},
   "outputs": [
    {
     "data": {
      "text/plain": [
       "'Heo Word'"
      ]
     },
     "execution_count": 12,
     "metadata": {},
     "output_type": "execute_result"
    }
   ],
   "source": [
    "#  Q11. remove all the occurences of a specific element from the string\n",
    "\n",
    "l1 = \"Hello World\"\n",
    "r = \"l\"\n",
    "result = \"\"\n",
    "for i in range(0,len(l1)):\n",
    "    if l1[i] != r:\n",
    "        result+=l1[i]\n",
    "result"
   ]
  },
  {
   "cell_type": "code",
   "execution_count": 13,
   "id": "f03dd624-f964-4b3e-80c6-07434020e29d",
   "metadata": {},
   "outputs": [
    {
     "data": {
      "text/plain": [
       "55"
      ]
     },
     "execution_count": 13,
     "metadata": {},
     "output_type": "execute_result"
    }
   ],
   "source": [
    "#  Q12. find second largest element in the list\n",
    "\n",
    "l1 = [2,42,3,55,7,65,6]\n",
    "fmax = 0\n",
    "smax = 0\n",
    "for i in range(len(l1)):\n",
    "    if fmax < l1[i]:\n",
    "        fmax = l1[i]   \n",
    "        \n",
    "for i in range(len(l1)):\n",
    "    if l1[i] != fmax:\n",
    "        if smax < l1[i]:\n",
    "            smax = l1[i]\n",
    "smax"
   ]
  },
  {
   "cell_type": "code",
   "execution_count": 14,
   "id": "f61ad520-6aef-47c2-b2e0-fb47e33fdf79",
   "metadata": {},
   "outputs": [
    {
     "data": {
      "text/plain": [
       "{'a': 4, 'b': 3, 'c': 2}"
      ]
     },
     "execution_count": 14,
     "metadata": {},
     "output_type": "execute_result"
    }
   ],
   "source": [
    "# Q13. \n",
    "\n",
    "l1 = [\"a\",\"a\",\"a\",\"a\",\"b\",\"b\",\"b\",\"c\",\"c\"]\n",
    "d = {}\n",
    "c = 1\n",
    "for i in range(0,len(l1)-1):\n",
    "    if l1[i] == l1[i+1]:\n",
    "        c = c + 1\n",
    "    else:\n",
    "        d[l1[i-1]] = c\n",
    "        c = 1 \n",
    "\n",
    "d[l1[-1]]=c\n",
    "    \n",
    "d"
   ]
  },
  {
   "cell_type": "code",
   "execution_count": 15,
   "id": "84dae7c0-8999-4adb-8fba-cda696afb5de",
   "metadata": {},
   "outputs": [
    {
     "data": {
      "text/plain": [
       "[8, 7, 6, 5, 4, 3, 2, 1]"
      ]
     },
     "execution_count": 15,
     "metadata": {},
     "output_type": "execute_result"
    }
   ],
   "source": [
    "#  Q14. To reverse a list\n",
    "\n",
    "l1 = [1,2,3,4,5,6,7,8]\n",
    "\n",
    "#  we will swap the elements  within the list to reverse the list\n",
    "\n",
    "start = 0\n",
    "end = len(l1)-1\n",
    "\n",
    "while start<end:\n",
    "    l1[start],l1[end] = l1[end],l1[start]\n",
    "    start = start+1\n",
    "    end = end-1\n",
    "l1"
   ]
  },
  {
   "cell_type": "code",
   "execution_count": 17,
   "id": "d5b65eab-9508-4264-ae87-87d58349bcfe",
   "metadata": {},
   "outputs": [
    {
     "data": {
      "text/plain": [
       "[1, 2, 3, 4, 5, 6, 7]"
      ]
     },
     "execution_count": 17,
     "metadata": {},
     "output_type": "execute_result"
    }
   ],
   "source": [
    "#  Q15. remove the duplicates from the list\n",
    "\n",
    "l1 = [1,1,2,2,2,3,4,5,6,7,7,7,7]\n",
    "\n",
    "l2 = []\n",
    "for item in l1:\n",
    "    if item not in l2:\n",
    "        l2.append(item) \n",
    "l2"
   ]
  },
  {
   "cell_type": "code",
   "execution_count": 18,
   "id": "46ec108f-325c-45c1-bd82-8eb68e41ced9",
   "metadata": {},
   "outputs": [
    {
     "name": "stdout",
     "output_type": "stream",
     "text": [
      "sorted\n"
     ]
    }
   ],
   "source": [
    "#  Q16. \n",
    "\n",
    "l1 = [1,2,3,4,6,8,59,90]\n",
    "# l1 = [9,8,7,6,5,4]\n",
    "is_descending = True\n",
    "is_ascending = True\n",
    "\n",
    "for i in range(1,len(l1)):\n",
    "    if l1[i-1] < l1[i]:\n",
    "        is_descending = False\n",
    "    elif l1[i-1] > l1[i]:\n",
    "        is_ascending = False\n",
    "if is_ascending:\n",
    "    print(\"sorted\")\n",
    "elif is_descending:\n",
    "    print(\"sorted\")\n",
    "else:\n",
    "    print(\"not sorted\")"
   ]
  },
  {
   "cell_type": "code",
   "execution_count": 19,
   "id": "a1741287-bf1c-4d9f-a424-5f56e7cd4b08",
   "metadata": {},
   "outputs": [
    {
     "data": {
      "text/plain": [
       "[1, 2, 3, 4, 5, 6, 7, 8]"
      ]
     },
     "execution_count": 19,
     "metadata": {},
     "output_type": "execute_result"
    }
   ],
   "source": [
    "# Q17\n",
    "\n",
    "l1 = [1, 3, 5, 7]\n",
    "l2 = [2, 4, 6, 8]\n",
    "l3 = []\n",
    "\n",
    "i, j = 0, 0\n",
    "\n",
    "while i < len(l1) and j < len(l2):\n",
    "    if l1[i] <= l2[j]:\n",
    "        l3.append(l1[i])\n",
    "        i += 1\n",
    "    else:\n",
    "        l3.append(l2[j])\n",
    "        j += 1\n",
    "\n",
    "while i < len(l1):\n",
    "    l3.append(l1[i])\n",
    "    i += 1\n",
    "\n",
    "while j < len(l2):\n",
    "    l3.append(l2[j])\n",
    "    j += 1\n",
    "\n",
    "l3"
   ]
  },
  {
   "cell_type": "code",
   "execution_count": 20,
   "id": "5cc519ec-1029-4840-b557-7c53f012a4f5",
   "metadata": {},
   "outputs": [
    {
     "data": {
      "text/plain": [
       "[1, 5]"
      ]
     },
     "execution_count": 20,
     "metadata": {},
     "output_type": "execute_result"
    }
   ],
   "source": [
    "# Q18.\n",
    "\n",
    "list1 = [1,2,3,4,5]\n",
    "list2 = [1,9,87,54,5]\n",
    "result = []\n",
    "\n",
    "for item in list1:\n",
    "    if item in list2 and item not in result:\n",
    "        result.append(item)\n",
    "\n",
    "result"
   ]
  },
  {
   "cell_type": "code",
   "execution_count": 21,
   "id": "eee99063-bea1-4197-b123-fae03f9d4637",
   "metadata": {},
   "outputs": [
    {
     "data": {
      "text/plain": [
       "[1, 2, 3, 4, 5, 9, 87, 54]"
      ]
     },
     "execution_count": 21,
     "metadata": {},
     "output_type": "execute_result"
    }
   ],
   "source": [
    "# Q19.\n",
    "\n",
    "l1 = [1, 2, 3, 4, 5]\n",
    "l2 = [1, 9, 87, 54, 5]\n",
    "result = []\n",
    "\n",
    "i, j = 0, 0\n",
    "\n",
    "while i < len(l1):\n",
    "    result.append(l1[i])\n",
    "    i += 1\n",
    "\n",
    "while j < len(l2):\n",
    "    if l2[j] not in result:\n",
    "        result.append(l2[j])\n",
    "    j += 1\n",
    "\n",
    "result"
   ]
  },
  {
   "cell_type": "code",
   "execution_count": 22,
   "id": "ba1b030a-d296-41ed-8d3b-b8666be3a988",
   "metadata": {},
   "outputs": [
    {
     "data": {
      "text/plain": [
       "[1, 5, 2, 7, 3, 4, 6]"
      ]
     },
     "execution_count": 22,
     "metadata": {},
     "output_type": "execute_result"
    }
   ],
   "source": [
    "# Q20.\n",
    "\n",
    "l1 = [1,2,3,4,5,6,7]\n",
    "n = len(l1)\n",
    "for i in range(n):\n",
    "    step = (i * 3) % n\n",
    "    l1[i], l1[step] = l1[step], l1[i]\n",
    "\n",
    "l1"
   ]
  },
  {
   "cell_type": "code",
   "execution_count": 23,
   "id": "81ca2541-5e96-42a2-b4e1-fc69b07c4de2",
   "metadata": {},
   "outputs": [
    {
     "name": "stdin",
     "output_type": "stream",
     "text": [
      "enter the length for t1 3\n",
      "enter the length for t2 4\n",
      "enter for t1:  1\n",
      "enter for t1:  2\n",
      "enter for t1:  3\n",
      "enter for t2:  4\n",
      "enter for t2:  2\n",
      "enter for t2:  1\n",
      "enter for t2:  6\n"
     ]
    },
    {
     "data": {
      "text/plain": [
       "(('1',), ('2',))"
      ]
     },
     "execution_count": 23,
     "metadata": {},
     "output_type": "execute_result"
    }
   ],
   "source": [
    "#  Q21.\n",
    "\n",
    "n = int(input(\"enter the length for t1\"))\n",
    "m = int(input(\"enter the length for t2\"))\n",
    "t1 = []\n",
    "t2 = []\n",
    "for i in range(n):\n",
    "    a = tuple(input(\"enter for t1: \"))\n",
    "    t1.append(a)\n",
    "for j in range(m):\n",
    "    b = tuple(input(\"enter for t2: \"))\n",
    "    t2.append(b)\n",
    "\n",
    "t3 = tuple(set(t1) & set(t2))\n",
    "t3"
   ]
  },
  {
   "cell_type": "code",
   "execution_count": 24,
   "id": "142af9ab-ea31-49e9-975e-5c4cfa624b3e",
   "metadata": {},
   "outputs": [
    {
     "name": "stdin",
     "output_type": "stream",
     "text": [
      "Enter the set1 seperated by commas 1,2,3,4,5\n",
      "Enter the set2 seperated by commas 5,6,7,8,2\n"
     ]
    },
    {
     "name": "stdout",
     "output_type": "stream",
     "text": [
      "Intersaction of both the sets {'2', '5'}\n"
     ]
    }
   ],
   "source": [
    "# Q22.\n",
    "\n",
    "data1 = input(\"Enter the set1 seperated by commas\")\n",
    "data2 = input(\"Enter the set2 seperated by commas\")\n",
    "\n",
    "s1 = set(data1.split(\",\"))\n",
    "s2 = set(data2.split(\",\"))\n",
    "\n",
    "print(\"Intersaction of both the sets\",s1 & s2)"
   ]
  },
  {
   "cell_type": "code",
   "execution_count": 25,
   "id": "dcb4a776-be33-4231-8a46-dd6c32a13394",
   "metadata": {},
   "outputs": [
    {
     "name": "stdin",
     "output_type": "stream",
     "text": [
      "enter the length of t1 3\n",
      "enter the length of t2 3\n",
      "enter the elements of the t1 1\n",
      "enter the elements of the t1 2\n",
      "enter the elements of the t1 3\n",
      "enter the elements of the t2 4\n",
      "enter the elements of the t2 5\n",
      "enter the elements of the t2 6\n"
     ]
    },
    {
     "data": {
      "text/plain": [
       "('1', '2', '3', '4', '5', '6')"
      ]
     },
     "execution_count": 25,
     "metadata": {},
     "output_type": "execute_result"
    }
   ],
   "source": [
    "# Q23.\n",
    "\n",
    "n = int(input(\"enter the length of t1\"))\n",
    "m = int(input(\"enter the length of t2\"))\n",
    "t1 = []\n",
    "t2 = []\n",
    "for i in range(n):\n",
    "    a = input(\"enter the elements of the t1\")\n",
    "    t1.append(a)\n",
    "for i in range(m):\n",
    "    b = input(\"enter the elements of the t2\")\n",
    "    t2.append(b)\n",
    "    \n",
    "t1 = tuple(t1)\n",
    "t2 = tuple(t2)\n",
    "\n",
    "t3 = t1+t2\n",
    "t3"
   ]
  },
  {
   "cell_type": "code",
   "execution_count": 27,
   "id": "45d49583-5b4d-4b38-980f-b9aa7b68fe4f",
   "metadata": {},
   "outputs": [
    {
     "name": "stdin",
     "output_type": "stream",
     "text": [
      "Enter the length of set 1:  3\n",
      "Enter the length of set 2:  3\n",
      "enter for set 1 1\n",
      "enter for set 1 2\n",
      "enter for set 1 3\n",
      "enter for set 2 2\n",
      "enter for set 2 3\n",
      "enter for set 2 4\n"
     ]
    },
    {
     "name": "stdout",
     "output_type": "stream",
     "text": [
      "{'1'}\n"
     ]
    }
   ],
   "source": [
    "### Q24.\n",
    "\n",
    "n = int(input(\"Enter the length of set 1: \"))\n",
    "m = int(input(\"Enter the length of set 2: \"))\n",
    "\n",
    "s1 = []\n",
    "s2 = []\n",
    "\n",
    "for i in range(n):\n",
    "    a = input(\"enter for set 1\")\n",
    "    s1.append(a)\n",
    "\n",
    "for j in range(m):\n",
    "    b = input(\"enter for set 2\")\n",
    "    s2.append(b)\n",
    "\n",
    "s1 = set(s1)\n",
    "s2 = set(s2)\n",
    "\n",
    "print(s1-s2)"
   ]
  },
  {
   "cell_type": "code",
   "execution_count": 28,
   "id": "f46b63a2-4615-437b-97f0-9edf398eaa1b",
   "metadata": {},
   "outputs": [
    {
     "name": "stdin",
     "output_type": "stream",
     "text": [
      "enter the elements of tuple seperated by commas:  1,2,3,4,5,6\n",
      "start index:  0\n",
      "enter the end index 5\n"
     ]
    },
    {
     "data": {
      "text/plain": [
       "('1', '2', '3', '4', '5')"
      ]
     },
     "execution_count": 28,
     "metadata": {},
     "output_type": "execute_result"
    }
   ],
   "source": [
    "# Q25.\n",
    "\n",
    "def tuple_within_range(t1,s,e):\n",
    "    return t1[s:e]\n",
    "\n",
    "\n",
    "t1 = tuple(input(\"enter the elements of tuple seperated by commas: \").split(\",\"))\n",
    "\n",
    "s = int(input(\"start index: \"))\n",
    "\n",
    "e = int(input(\"enter the end index\"))\n",
    "\n",
    "result = tuple_within_range(t1,s,e)\n",
    "\n",
    "result"
   ]
  },
  {
   "cell_type": "code",
   "execution_count": 29,
   "id": "677680db-ba98-480e-bb72-e906c05747c1",
   "metadata": {},
   "outputs": [
    {
     "name": "stdin",
     "output_type": "stream",
     "text": [
      "enter the elements of the set 1 seperated by the commas:  a,b,c,d\n",
      "enter the elements of the set 2 seperated by the commas:  a,c,b,d,f\n"
     ]
    },
    {
     "name": "stdout",
     "output_type": "stream",
     "text": [
      "{'d', 'f', 'a', 'b', 'c'}\n"
     ]
    }
   ],
   "source": [
    "# Q26.\n",
    "\n",
    "s1 = set(input(\"enter the elements of the set 1 seperated by the commas: \").split(\",\"))\n",
    "s2 = set(input(\"enter the elements of the set 2 seperated by the commas: \").split(\",\"))\n",
    "\n",
    "print(s1 | s2)"
   ]
  },
  {
   "cell_type": "code",
   "execution_count": 30,
   "id": "4522e44c-66de-4f2f-bfdf-2d958efd9873",
   "metadata": {},
   "outputs": [
    {
     "name": "stdin",
     "output_type": "stream",
     "text": [
      "Enter the elements of the tuple separated by commas:  1,32,20,25,85,74,4\n"
     ]
    },
    {
     "name": "stdout",
     "output_type": "stream",
     "text": [
      "the maximum value in the tuple is :  85\n",
      "The minimum value in the tuple is :  1\n"
     ]
    }
   ],
   "source": [
    "# Q27.\n",
    "\n",
    "t1 = tuple(map(int, input(\"Enter the elements of the tuple separated by commas: \").split(\",\")))\n",
    "max = 0\n",
    "min = t1[0]\n",
    "\n",
    "for i in range(len(t1)):\n",
    "    if max<t1[i]:\n",
    "        max = t1[i]\n",
    "\n",
    "# for minimum value\n",
    "\n",
    "for j in range(len(t1)):\n",
    "    if min>t1[j]:\n",
    "        min = t1[j]\n",
    "\n",
    "print(\"the maximum value in the tuple is : \",max)\n",
    "\n",
    "print(\"The minimum value in the tuple is : \",min)"
   ]
  },
  {
   "cell_type": "code",
   "execution_count": 31,
   "id": "83eecc6d-095b-4fcb-acba-0531067f5e63",
   "metadata": {},
   "outputs": [
    {
     "name": "stdin",
     "output_type": "stream",
     "text": [
      "Enter the elements of the set 1 separated by commas:  1,2,3,4,5,6\n",
      "Enter the elements of the set 2 separated by commas:  3,4,5,6,7,8\n"
     ]
    },
    {
     "name": "stdout",
     "output_type": "stream",
     "text": [
      "The union of the 2 sets:  {1, 2, 3, 4, 5, 6, 7, 8}\n",
      "The intersection of the 2 sets:  {3, 4, 5, 6}\n",
      "The difference between the 2 sets:  {1, 2}\n"
     ]
    }
   ],
   "source": [
    "#  Q28.\n",
    "\n",
    "s1 = set(map(int, input(\"Enter the elements of the set 1 separated by commas: \").split(\",\")))\n",
    "s2 = set(map(int, input(\"Enter the elements of the set 2 separated by commas: \").split(\",\")))\n",
    "\n",
    "print(\"The union of the 2 sets: \",s1|s2)\n",
    "print(\"The intersection of the 2 sets: \",s1&s2)\n",
    "print(\"The difference between the 2 sets: \",s1-s2)"
   ]
  },
  {
   "cell_type": "code",
   "execution_count": 32,
   "id": "3675ed18-bef9-49cf-be54-b8128e4a1341",
   "metadata": {},
   "outputs": [
    {
     "name": "stdin",
     "output_type": "stream",
     "text": [
      "Enter the elements of the tuple separated by commas:  1,2,3,4,21,2,3,4,2,2,3\n",
      "Enter a element:  2\n"
     ]
    },
    {
     "data": {
      "text/plain": [
       "4"
      ]
     },
     "execution_count": 32,
     "metadata": {},
     "output_type": "execute_result"
    }
   ],
   "source": [
    "# Q29.\n",
    "\n",
    "t1 = tuple(map(int, input(\"Enter the elements of the tuple separated by commas: \").split(\",\")))\n",
    "\n",
    "x = int(input(\"Enter a element: \"))\n",
    "\n",
    "count = 0\n",
    "\n",
    "for i in range(len(t1)):\n",
    "    if x == t1[i]:\n",
    "        count = count + 1\n",
    "\n",
    "count"
   ]
  },
  {
   "cell_type": "code",
   "execution_count": 33,
   "id": "6b33efdb-5f95-46b6-8af7-7ca350798ac7",
   "metadata": {},
   "outputs": [
    {
     "name": "stdin",
     "output_type": "stream",
     "text": [
      "Enter the elements of the set 1 separated by commas:  1,2,3,4\n",
      "Enter the elements of the set 2 separated by commas:  3,4,5,6,7\n"
     ]
    },
    {
     "name": "stdout",
     "output_type": "stream",
     "text": [
      "The symmetric difference is: {1, 2, 5, 6, 7}\n"
     ]
    }
   ],
   "source": [
    "#  Q30.\n",
    "\n",
    "s1 = set(map(int, input(\"Enter the elements of the set 1 separated by commas: \").split(\",\")))\n",
    "s2 = set(map(int, input(\"Enter the elements of the set 2 separated by commas: \").split(\",\")))\n",
    "\n",
    "sym_diff = s1 ^ s2\n",
    "\n",
    "print(\"The symmetric difference is:\", sym_diff)"
   ]
  },
  {
   "cell_type": "code",
   "execution_count": 34,
   "id": "574f1dd7-4067-49b9-977f-c89e6175bed2",
   "metadata": {},
   "outputs": [
    {
     "name": "stdin",
     "output_type": "stream",
     "text": [
      "enter the elements of the list seperated by the commas:  hola,hola,hii,hii,hii,hii,hii\n"
     ]
    },
    {
     "data": {
      "text/plain": [
       "{'hola': 2, 'hii': 5}"
      ]
     },
     "execution_count": 34,
     "metadata": {},
     "output_type": "execute_result"
    }
   ],
   "source": [
    "# Q31.\n",
    "\n",
    "l1 = input(\"enter the elements of the list seperated by the commas: \").split(\",\")\n",
    "\n",
    "result = {}\n",
    "\n",
    "count = 0\n",
    "\n",
    "for i in range(len(l1)):\n",
    "    if l1[i] in result:\n",
    "        result[l1[i]]+=1\n",
    "    else:\n",
    "        result[l1[i]]=1\n",
    "        \n",
    "result"
   ]
  },
  {
   "cell_type": "code",
   "execution_count": 35,
   "id": "34867aa6-cb65-47ea-8b78-d3dfff7c3817",
   "metadata": {},
   "outputs": [
    {
     "name": "stdin",
     "output_type": "stream",
     "text": [
      "enter length of the d1 3\n",
      "enter length of the d2 3\n",
      "enter key:  a\n",
      "enter values:  1\n",
      "enter key:  b\n",
      "enter values:  1\n",
      "enter key:  c\n",
      "enter values:  1\n",
      "enter key:  a\n",
      "enter values:  3\n",
      "enter key:  c\n",
      "enter values:  7\n",
      "enter key:  d\n",
      "enter values:  2\n"
     ]
    },
    {
     "data": {
      "text/plain": [
       "{'a': 4, 'b': 1, 'c': 8, 'd': 2}"
      ]
     },
     "execution_count": 35,
     "metadata": {},
     "output_type": "execute_result"
    }
   ],
   "source": [
    "# Q32.\n",
    "\n",
    "d1 = {}\n",
    "d2 = {}\n",
    "n = int(input(\"enter length of the d1\"))\n",
    "m = int(input(\"enter length of the d2\"))\n",
    "\n",
    "for i in range(n):\n",
    "    k = input(\"enter key: \")\n",
    "    v = int(input(\"enter values: \"))\n",
    "    d1[k]=v\n",
    "\n",
    "for j in range(m):\n",
    "    k1 = input(\"enter key: \")\n",
    "    v1 = int(input(\"enter values: \"))\n",
    "    d2[k1]=v1\n",
    "\n",
    "result = {}\n",
    "\n",
    "\n",
    "for key in d1:\n",
    "    if key in d2:\n",
    "        result[key]=d1[key]+d2[key]\n",
    "    else:\n",
    "        result[key]=d1[key]\n",
    "\n",
    "for key in d2:\n",
    "    if key not in result:\n",
    "        result[key]=d2[key]\n",
    "\n",
    "result"
   ]
  },
  {
   "cell_type": "code",
   "execution_count": 36,
   "id": "2d205587-0264-4ea9-8837-080304e0dcdd",
   "metadata": {},
   "outputs": [
    {
     "name": "stdout",
     "output_type": "stream",
     "text": [
      "4\n"
     ]
    }
   ],
   "source": [
    "#  Q33.\n",
    "\n",
    "def result(d1,l1):\n",
    "    c = d1\n",
    "    for i in l1:\n",
    "        if i in c:\n",
    "            c = c[i]\n",
    "        else:\n",
    "            return None\n",
    "    return c\n",
    "\n",
    "d1 = {\"a\":3,\"b\":2,\"c\":1,\"abcd\":{\"d\":4,\"e\":5}}\n",
    "l1 = [\"abcd\",\"d\"]\n",
    "l2 = [\"abcd\",\"f\"]\n",
    "r = result(d1,l1)\n",
    "print(r)"
   ]
  },
  {
   "cell_type": "code",
   "execution_count": 37,
   "id": "7410b109-d494-4b21-a310-45dc57261465",
   "metadata": {},
   "outputs": [
    {
     "name": "stdout",
     "output_type": "stream",
     "text": [
      "None\n"
     ]
    }
   ],
   "source": [
    "r1 = result(d1,l2)\n",
    "print(r1)"
   ]
  },
  {
   "cell_type": "code",
   "execution_count": 38,
   "id": "bb747773-6211-4c71-a10b-a4c7c2b5df15",
   "metadata": {},
   "outputs": [
    {
     "name": "stdin",
     "output_type": "stream",
     "text": [
      "Enter the length of d1:  4\n",
      "Enter key:  a\n",
      "Enter value:  2\n",
      "Enter key:  b\n",
      "Enter value:  1\n",
      "Enter key:  c\n",
      "Enter value:  4\n",
      "Enter key:  d\n",
      "Enter value:  3\n"
     ]
    },
    {
     "name": "stdout",
     "output_type": "stream",
     "text": [
      "Sorted dictionary by values: {'b': 1, 'a': 2, 'd': 3, 'c': 4}\n"
     ]
    }
   ],
   "source": [
    "# Q34.\n",
    "\n",
    "d1 = {}\n",
    "n = int(input(\"Enter the length of d1: \"))\n",
    "\n",
    "for i in range(n):\n",
    "    k = input(\"Enter key: \")\n",
    "    v = int(input(\"Enter value: \"))\n",
    "    d1[k] = v\n",
    "\n",
    "items = list(d1.items())\n",
    "\n",
    "for i in range(len(items)):\n",
    "    for j in range(i + 1, len(items)):\n",
    "        if items[i][1] > items[j][1]:\n",
    "            items[i], items[j] = items[j], items[i]\n",
    "\n",
    "sorted_dict = dict(items)\n",
    "\n",
    "print(\"Sorted dictionary by values:\", sorted_dict)"
   ]
  },
  {
   "cell_type": "code",
   "execution_count": 41,
   "id": "dbcb5e10-16aa-4856-8c67-4e62e47ffdb1",
   "metadata": {},
   "outputs": [
    {
     "name": "stdout",
     "output_type": "stream",
     "text": [
      "Sorted dictionary by values: {'c': 4, 'd': 3, 'a': 2, 'b': 1}\n"
     ]
    }
   ],
   "source": [
    "# sorting in decreasing order\n",
    "\n",
    "for i in range(len(items)):\n",
    "    for j in range(i + 1, len(items)):\n",
    "        if items[i][1] < items[j][1]:\n",
    "            items[i], items[j] = items[j], items[i]\n",
    "\n",
    "sorted_dict = dict(items)\n",
    "\n",
    "print(\"Sorted dictionary by values:\", sorted_dict)"
   ]
  },
  {
   "cell_type": "code",
   "execution_count": 42,
   "id": "00107772-8c3d-4732-b483-12e28ff0f301",
   "metadata": {},
   "outputs": [
    {
     "data": {
      "text/plain": [
       "{1: ['a', 'b'], 2: ['c'], 3: ['d']}"
      ]
     },
     "execution_count": 42,
     "metadata": {},
     "output_type": "execute_result"
    }
   ],
   "source": [
    "# Q35.\n",
    "\n",
    "d1 = {\"a\":1,\"b\":1,\"c\":2,\"d\":3}\n",
    "result = {}\n",
    "for key,value in d1.items():\n",
    "    if value in result:\n",
    "        result[value].append(key)\n",
    "    else:\n",
    "        result[value] = [key]\n",
    "result"
   ]
  },
  {
   "cell_type": "code",
   "execution_count": null,
   "id": "a0a3a534-6916-4d28-89dc-232fa1a5d7bb",
   "metadata": {},
   "outputs": [],
   "source": []
  },
  {
   "cell_type": "code",
   "execution_count": null,
   "id": "23d88fad-2074-45d7-9beb-521058ed4b59",
   "metadata": {},
   "outputs": [],
   "source": []
  }
 ],
 "metadata": {
  "kernelspec": {
   "display_name": "Python 3 (ipykernel)",
   "language": "python",
   "name": "python3"
  },
  "language_info": {
   "codemirror_mode": {
    "name": "ipython",
    "version": 3
   },
   "file_extension": ".py",
   "mimetype": "text/x-python",
   "name": "python",
   "nbconvert_exporter": "python",
   "pygments_lexer": "ipython3",
   "version": "3.10.8"
  }
 },
 "nbformat": 4,
 "nbformat_minor": 5
}
